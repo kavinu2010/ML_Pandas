{
 "cells": [
  {
   "cell_type": "code",
   "execution_count": 15,
   "metadata": {},
   "outputs": [],
   "source": [
    "import pandas as pd\n",
    "import matplotlib.pyplot as plt\n",
    "\n",
    " "
   ]
  },
  {
   "cell_type": "code",
   "execution_count": 16,
   "metadata": {},
   "outputs": [],
   "source": [
    "df=pd.read_csv('./data/house_price.csv')"
   ]
  },
  {
   "cell_type": "code",
   "execution_count": 17,
   "metadata": {},
   "outputs": [
    {
     "data": {
      "text/html": [
       "<div>\n",
       "<style scoped>\n",
       "    .dataframe tbody tr th:only-of-type {\n",
       "        vertical-align: middle;\n",
       "    }\n",
       "\n",
       "    .dataframe tbody tr th {\n",
       "        vertical-align: top;\n",
       "    }\n",
       "\n",
       "    .dataframe thead th {\n",
       "        text-align: right;\n",
       "    }\n",
       "</style>\n",
       "<table border=\"1\" class=\"dataframe\">\n",
       "  <thead>\n",
       "    <tr style=\"text-align: right;\">\n",
       "      <th></th>\n",
       "      <th>bedrooms</th>\n",
       "      <th>sq_meter</th>\n",
       "      <th>neighborhood</th>\n",
       "      <th>sales_price</th>\n",
       "    </tr>\n",
       "  </thead>\n",
       "  <tbody>\n",
       "    <tr>\n",
       "      <th>0</th>\n",
       "      <td>3</td>\n",
       "      <td>200</td>\n",
       "      <td>Normalville</td>\n",
       "      <td>250000</td>\n",
       "    </tr>\n",
       "    <tr>\n",
       "      <th>1</th>\n",
       "      <td>2</td>\n",
       "      <td>80</td>\n",
       "      <td>Cool Town</td>\n",
       "      <td>300000</td>\n",
       "    </tr>\n",
       "    <tr>\n",
       "      <th>2</th>\n",
       "      <td>2</td>\n",
       "      <td>85</td>\n",
       "      <td>Normalville</td>\n",
       "      <td>150000</td>\n",
       "    </tr>\n",
       "    <tr>\n",
       "      <th>3</th>\n",
       "      <td>1</td>\n",
       "      <td>55</td>\n",
       "      <td>Normalville</td>\n",
       "      <td>78000</td>\n",
       "    </tr>\n",
       "    <tr>\n",
       "      <th>4</th>\n",
       "      <td>4</td>\n",
       "      <td>200</td>\n",
       "      <td>Skid Row</td>\n",
       "      <td>150000</td>\n",
       "    </tr>\n",
       "  </tbody>\n",
       "</table>\n",
       "</div>"
      ],
      "text/plain": [
       "   bedrooms  sq_meter neighborhood  sales_price\n",
       "0         3       200  Normalville       250000\n",
       "1         2        80    Cool Town       300000\n",
       "2         2        85  Normalville       150000\n",
       "3         1        55  Normalville        78000\n",
       "4         4       200     Skid Row       150000"
      ]
     },
     "execution_count": 17,
     "metadata": {},
     "output_type": "execute_result"
    }
   ],
   "source": [
    "df.head()"
   ]
  },
  {
   "cell_type": "code",
   "execution_count": 18,
   "metadata": {},
   "outputs": [
    {
     "data": {
      "text/html": [
       "<div>\n",
       "<style scoped>\n",
       "    .dataframe tbody tr th:only-of-type {\n",
       "        vertical-align: middle;\n",
       "    }\n",
       "\n",
       "    .dataframe tbody tr th {\n",
       "        vertical-align: top;\n",
       "    }\n",
       "\n",
       "    .dataframe thead th {\n",
       "        text-align: right;\n",
       "    }\n",
       "</style>\n",
       "<table border=\"1\" class=\"dataframe\">\n",
       "  <thead>\n",
       "    <tr style=\"text-align: right;\">\n",
       "      <th></th>\n",
       "      <th>bedrooms</th>\n",
       "      <th>sq_meter</th>\n",
       "      <th>neighborhood</th>\n",
       "      <th>sales_price</th>\n",
       "    </tr>\n",
       "  </thead>\n",
       "  <tbody>\n",
       "    <tr>\n",
       "      <th>0</th>\n",
       "      <td>3</td>\n",
       "      <td>200</td>\n",
       "      <td>Normalville</td>\n",
       "      <td>250000</td>\n",
       "    </tr>\n",
       "    <tr>\n",
       "      <th>1</th>\n",
       "      <td>2</td>\n",
       "      <td>80</td>\n",
       "      <td>Cool Town</td>\n",
       "      <td>300000</td>\n",
       "    </tr>\n",
       "    <tr>\n",
       "      <th>2</th>\n",
       "      <td>2</td>\n",
       "      <td>85</td>\n",
       "      <td>Normalville</td>\n",
       "      <td>150000</td>\n",
       "    </tr>\n",
       "    <tr>\n",
       "      <th>3</th>\n",
       "      <td>1</td>\n",
       "      <td>55</td>\n",
       "      <td>Normalville</td>\n",
       "      <td>78000</td>\n",
       "    </tr>\n",
       "    <tr>\n",
       "      <th>4</th>\n",
       "      <td>4</td>\n",
       "      <td>200</td>\n",
       "      <td>Skid Row</td>\n",
       "      <td>150000</td>\n",
       "    </tr>\n",
       "    <tr>\n",
       "      <th>5</th>\n",
       "      <td>5</td>\n",
       "      <td>300</td>\n",
       "      <td>Uptown</td>\n",
       "      <td>450000</td>\n",
       "    </tr>\n",
       "    <tr>\n",
       "      <th>6</th>\n",
       "      <td>2</td>\n",
       "      <td>70</td>\n",
       "      <td>Normalville</td>\n",
       "      <td>120000</td>\n",
       "    </tr>\n",
       "    <tr>\n",
       "      <th>7</th>\n",
       "      <td>3</td>\n",
       "      <td>95</td>\n",
       "      <td>Suburbia</td>\n",
       "      <td>180000</td>\n",
       "    </tr>\n",
       "  </tbody>\n",
       "</table>\n",
       "</div>"
      ],
      "text/plain": [
       "   bedrooms  sq_meter neighborhood  sales_price\n",
       "0         3       200  Normalville       250000\n",
       "1         2        80    Cool Town       300000\n",
       "2         2        85  Normalville       150000\n",
       "3         1        55  Normalville        78000\n",
       "4         4       200     Skid Row       150000\n",
       "5         5       300       Uptown       450000\n",
       "6         2        70  Normalville       120000\n",
       "7         3        95     Suburbia       180000"
      ]
     },
     "execution_count": 18,
     "metadata": {},
     "output_type": "execute_result"
    }
   ],
   "source": [
    "df.head(8)"
   ]
  },
  {
   "cell_type": "code",
   "execution_count": 32,
   "metadata": {},
   "outputs": [],
   "source": [
    "df_filtered = df[df['sq_meter']>82]\n"
   ]
  },
  {
   "cell_type": "code",
   "execution_count": 20,
   "metadata": {},
   "outputs": [
    {
     "data": {
      "text/html": [
       "<div>\n",
       "<style scoped>\n",
       "    .dataframe tbody tr th:only-of-type {\n",
       "        vertical-align: middle;\n",
       "    }\n",
       "\n",
       "    .dataframe tbody tr th {\n",
       "        vertical-align: top;\n",
       "    }\n",
       "\n",
       "    .dataframe thead th {\n",
       "        text-align: right;\n",
       "    }\n",
       "</style>\n",
       "<table border=\"1\" class=\"dataframe\">\n",
       "  <thead>\n",
       "    <tr style=\"text-align: right;\">\n",
       "      <th></th>\n",
       "      <th>bedrooms</th>\n",
       "      <th>sq_meter</th>\n",
       "      <th>neighborhood</th>\n",
       "      <th>sales_price</th>\n",
       "    </tr>\n",
       "  </thead>\n",
       "  <tbody>\n",
       "    <tr>\n",
       "      <th>0</th>\n",
       "      <td>3</td>\n",
       "      <td>200</td>\n",
       "      <td>Normalville</td>\n",
       "      <td>250000</td>\n",
       "    </tr>\n",
       "    <tr>\n",
       "      <th>2</th>\n",
       "      <td>2</td>\n",
       "      <td>85</td>\n",
       "      <td>Normalville</td>\n",
       "      <td>150000</td>\n",
       "    </tr>\n",
       "    <tr>\n",
       "      <th>4</th>\n",
       "      <td>4</td>\n",
       "      <td>200</td>\n",
       "      <td>Skid Row</td>\n",
       "      <td>150000</td>\n",
       "    </tr>\n",
       "    <tr>\n",
       "      <th>5</th>\n",
       "      <td>5</td>\n",
       "      <td>300</td>\n",
       "      <td>Uptown</td>\n",
       "      <td>450000</td>\n",
       "    </tr>\n",
       "    <tr>\n",
       "      <th>7</th>\n",
       "      <td>3</td>\n",
       "      <td>95</td>\n",
       "      <td>Suburbia</td>\n",
       "      <td>180000</td>\n",
       "    </tr>\n",
       "    <tr>\n",
       "      <th>9</th>\n",
       "      <td>4</td>\n",
       "      <td>220</td>\n",
       "      <td>Skid Row</td>\n",
       "      <td>200000</td>\n",
       "    </tr>\n",
       "    <tr>\n",
       "      <th>10</th>\n",
       "      <td>3</td>\n",
       "      <td>150</td>\n",
       "      <td>Cool Town</td>\n",
       "      <td>320000</td>\n",
       "    </tr>\n",
       "    <tr>\n",
       "      <th>12</th>\n",
       "      <td>3</td>\n",
       "      <td>110</td>\n",
       "      <td>Uptown</td>\n",
       "      <td>275000</td>\n",
       "    </tr>\n",
       "    <tr>\n",
       "      <th>13</th>\n",
       "      <td>4</td>\n",
       "      <td>180</td>\n",
       "      <td>Cool Town</td>\n",
       "      <td>350000</td>\n",
       "    </tr>\n",
       "  </tbody>\n",
       "</table>\n",
       "</div>"
      ],
      "text/plain": [
       "    bedrooms  sq_meter neighborhood  sales_price\n",
       "0          3       200  Normalville       250000\n",
       "2          2        85  Normalville       150000\n",
       "4          4       200     Skid Row       150000\n",
       "5          5       300       Uptown       450000\n",
       "7          3        95     Suburbia       180000\n",
       "9          4       220     Skid Row       200000\n",
       "10         3       150    Cool Town       320000\n",
       "12         3       110       Uptown       275000\n",
       "13         4       180    Cool Town       350000"
      ]
     },
     "execution_count": 20,
     "metadata": {},
     "output_type": "execute_result"
    }
   ],
   "source": [
    "df_filtered"
   ]
  },
  {
   "cell_type": "code",
   "execution_count": null,
   "metadata": {},
   "outputs": [],
   "source": []
  },
  {
   "cell_type": "code",
   "execution_count": 21,
   "metadata": {},
   "outputs": [
    {
     "name": "stdout",
     "output_type": "stream",
     "text": [
      "        bedrooms    sq_meter    sales_price\n",
      "count  15.000000   15.000000      15.000000\n",
      "mean    2.666667  127.000000  209533.333333\n",
      "std     1.234427   76.899749  110419.891238\n",
      "min     1.000000   45.000000   78000.000000\n",
      "25%     2.000000   67.500000  130000.000000\n",
      "50%     3.000000   95.000000  180000.000000\n",
      "75%     3.500000  190.000000  287500.000000\n",
      "max     5.000000  300.000000  450000.000000\n"
     ]
    }
   ],
   "source": [
    "# Display statistical summary\n",
    "print(df.describe())\n"
   ]
  },
  {
   "cell_type": "code",
   "execution_count": 23,
   "metadata": {},
   "outputs": [
    {
     "name": "stdout",
     "output_type": "stream",
     "text": [
      "    bedrooms  sq_meter neighborhood  sales_price\n",
      "0          3       200  Normalville       250000\n",
      "4          4       200     Skid Row       150000\n",
      "5          5       300       Uptown       450000\n",
      "7          3        95     Suburbia       180000\n",
      "9          4       220     Skid Row       200000\n",
      "10         3       150    Cool Town       320000\n",
      "12         3       110       Uptown       275000\n",
      "13         4       180    Cool Town       350000\n"
     ]
    }
   ],
   "source": [
    "# Filter houses with more than 2 bedrooms\n",
    "filtered_df = df[df['bedrooms'] > 2]\n",
    "print(filtered_df)\n"
   ]
  },
  {
   "cell_type": "code",
   "execution_count": 24,
   "metadata": {},
   "outputs": [
    {
     "name": "stdout",
     "output_type": "stream",
     "text": [
      "    bedrooms  sq_meter neighborhood  sales_price\n",
      "3          1        55  Normalville        78000\n",
      "14         1        50     Downtown        85000\n",
      "8          1        45     Downtown        95000\n",
      "6          2        70  Normalville       120000\n",
      "11         2        65     Suburbia       140000\n",
      "2          2        85  Normalville       150000\n",
      "4          4       200     Skid Row       150000\n",
      "7          3        95     Suburbia       180000\n",
      "9          4       220     Skid Row       200000\n",
      "0          3       200  Normalville       250000\n",
      "12         3       110       Uptown       275000\n",
      "1          2        80    Cool Town       300000\n",
      "10         3       150    Cool Town       320000\n",
      "13         4       180    Cool Town       350000\n",
      "5          5       300       Uptown       450000\n"
     ]
    }
   ],
   "source": [
    "# Sort the dataset by sales_price in ascending order\n",
    "sorted_df = df.sort_values(by='sales_price', ascending=True)\n",
    "print(sorted_df)\n"
   ]
  },
  {
   "cell_type": "code",
   "execution_count": 25,
   "metadata": {},
   "outputs": [
    {
     "name": "stdout",
     "output_type": "stream",
     "text": [
      "Average Sales Price: 209533.33333333334\n"
     ]
    }
   ],
   "source": [
    "# Calculate the average sales price\n",
    "average_price = df['sales_price'].mean()\n",
    "print(f\"Average Sales Price: {average_price}\")\n"
   ]
  },
  {
   "cell_type": "code",
   "execution_count": 27,
   "metadata": {},
   "outputs": [
    {
     "name": "stdout",
     "output_type": "stream",
     "text": [
      "    bedrooms  sq_meter neighborhood  sales_price  price_per_sq_meter\n",
      "0          3       200  Normalville       250000         1250.000000\n",
      "1          2        80    Cool Town       300000         3750.000000\n",
      "2          2        85  Normalville       150000         1764.705882\n",
      "3          1        55  Normalville        78000         1418.181818\n",
      "4          4       200     Skid Row       150000          750.000000\n",
      "5          5       300       Uptown       450000         1500.000000\n",
      "6          2        70  Normalville       120000         1714.285714\n",
      "7          3        95     Suburbia       180000         1894.736842\n",
      "8          1        45     Downtown        95000         2111.111111\n",
      "9          4       220     Skid Row       200000          909.090909\n",
      "10         3       150    Cool Town       320000         2133.333333\n",
      "11         2        65     Suburbia       140000         2153.846154\n",
      "12         3       110       Uptown       275000         2500.000000\n",
      "13         4       180    Cool Town       350000         1944.444444\n",
      "14         1        50     Downtown        85000         1700.000000\n"
     ]
    }
   ],
   "source": [
    "# Add a new column for price per square meter\n",
    "df['price_per_sq_meter'] = df['sales_price'] / df['sq_meter']\n",
    "print(df)\n"
   ]
  },
  {
   "cell_type": "code",
   "execution_count": 28,
   "metadata": {},
   "outputs": [
    {
     "name": "stdout",
     "output_type": "stream",
     "text": [
      "neighborhood\n",
      "Cool Town      323333.333333\n",
      "Downtown        90000.000000\n",
      "Normalville    149500.000000\n",
      "Skid Row       175000.000000\n",
      "Suburbia       160000.000000\n",
      "Uptown         362500.000000\n",
      "Name: sales_price, dtype: float64\n"
     ]
    }
   ],
   "source": [
    "# Group by neighborhood and calculate average sales price\n",
    "grouped_df = df.groupby('neighborhood')['sales_price'].mean()\n",
    "print(grouped_df)\n"
   ]
  },
  {
   "cell_type": "code",
   "execution_count": 34,
   "metadata": {},
   "outputs": [
    {
     "data": {
      "image/png": "[encoded data removed]",
      "text/plain": [
       "<Figure size 640x480 with 1 Axes>"
      ]
     },
     "metadata": {},
     "output_type": "display_data"
    }
   ],
   "source": [
    " \n",
    "\n",
    "# Calculate average sales price per neighborhood\n",
    "nb_avg_price = df.groupby('neighborhood')['sales_price'].mean()\n",
    "\n",
    "# Create a bar plot\n",
    "plt.bar(nb_avg_price.index, nb_avg_price.values, color='skyblue', edgecolor='black')\n",
    "\n",
    "# Add values above the bars\n",
    "for i, value in enumerate(nb_avg_price.values):\n",
    "    plt.text(i, value + 1400, f'{value:.2f}', ha='center', va='bottom')  # Adjust spacing as needed\n",
    "\n",
    "# Add title and labels\n",
    "plt.title('Average Sales Price per Neighborhood')\n",
    "plt.xlabel('Neighborhood')\n",
    "plt.ylabel('Average Sales Price')\n",
    "\n",
    "# Rotate x-axis labels and adjust layout\n",
    "plt.xticks(rotation=0)\n",
    "plt.tight_layout()\n",
    "\n",
    "# Show the plot\n",
    "plt.show()\n",
    "\n"
   ]
  },
  {
   "cell_type": "code",
   "execution_count": 38,
   "metadata": {},
   "outputs": [
    {
     "name": "stdout",
     "output_type": "stream",
     "text": [
      "    bedrooms  sq_meter neighborhood  sales_price  price_per_sq_meter\n",
      "0          3       200  Normalville       250000         1250.000000\n",
      "1          2        80    Cool Town       300000         3750.000000\n",
      "2          2        85  Normalville       150000         1764.705882\n",
      "3          1        55  Normalville        78000         1418.181818\n",
      "4          4       200     Skid Row       150000          750.000000\n",
      "5          5       300       Uptown       450000         1500.000000\n",
      "6          2        70  Normalville       120000         1714.285714\n",
      "7          3        95     Suburbia       180000         1894.736842\n",
      "8          1        45     Downtown        95000         2111.111111\n",
      "9          4       220     Skid Row       200000          909.090909\n",
      "10         3       150    Cool Town       320000         2133.333333\n",
      "11         2        65     Suburbia       140000         2153.846154\n",
      "12         3       110       Uptown       275000         2500.000000\n",
      "13         4       180    Cool Town       350000         1944.444444\n",
      "14         1        50     Downtown        85000         1700.000000\n"
     ]
    }
   ],
   "source": [
    "df.head()\n",
    "print(df)\n",
    "df.to_csv('./data/modified.csv')\n",
    " \n"
   ]
  }
 ],
 "metadata": {
  "kernelspec": {
   "display_name": "base",
   "language": "python",
   "name": "python3"
  },
  "language_info": {
   "codemirror_mode": {
    "name": "ipython",
    "version": 3
   },
   "file_extension": ".py",
   "mimetype": "text/x-python",
   "name": "python",
   "nbconvert_exporter": "python",
   "pygments_lexer": "ipython3",
   "version": "3.12.2"
  }
 },
 "nbformat": 4,
 "nbformat_minor": 2
}
