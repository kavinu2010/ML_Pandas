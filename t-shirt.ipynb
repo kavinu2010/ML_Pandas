{
 "cells": [
  {
   "cell_type": "markdown",
   "metadata": {},
   "source": [
    "# Predicting T-shirt size using the ANSUR II dataset\n",
    "We will here try to predict a persons t-shirt size given the weight and height of the person. We will use the ANSUR II dataset which contains a lot of information about the physical attributes of a large number of people. \n",
    "\n",
    "We will first try to map the persons in the dataset to a t-shirt size. It is hard to find a concise size chart for t-shirt so we will create our own, initial chart, based on these assumptions:\n",
    "\n",
    "We will only look at two measurements, Shoulder Width and Chest Circumference.\n",
    "\n",
    "Our first problem is that Shoulder Width is not one of the measurements taken in the dataset. But we have Biacromial Breadth which is the distance between the two acromion processes. We will assume that this is the same as Shoulder Width.\n",
    "\n",
    "We will then have these initial rules:\n",
    "\n",
    "| Size | Percentile |\n",
    "|------|------------|\n",
    "| XS   | 0-5        |\n",
    "| S    | 5-25       |\n",
    "| M    | 25-50      |\n",
    "| L    | 50-75      |\n",
    "| XL   | 75-90      |\n",
    "| XXL  | 90-97      |\n",
    "| XXXL | 97-100     |"
   ]
  },
  {
   "cell_type": "code",
   "execution_count": 28,
   "metadata": {},
   "outputs": [
    {
     "name": "stdout",
     "output_type": "stream",
     "text": [
      "The female shirts size data (1986, 108)\n",
      "The male shirts size data (4082, 108)\n"
     ]
    }
   ],
   "source": [
    "import pandas as pd\n",
    "female = pd.read_csv('./Data/female.csv' )\n",
    "male = pd.read_csv('./Data/male.csv' )\n",
    "print(f'The female shirts size data {female.shape}')\n",
    "print(f'The male shirts size data {male.shape}')"
   ]
  },
  {
   "cell_type": "code",
   "execution_count": 30,
   "metadata": {},
   "outputs": [
    {
     "name": "stdout",
     "output_type": "stream",
     "text": [
      "{(0, 5): np.int64(1), (5, 25): np.int64(1), (25, 50): np.int64(1), (50, 75): np.int64(1), (75, 90): np.int64(1), (90, 97): np.int64(0), (97, 100): np.int64(0)}\n",
      "{(0, 5): np.int64(1), (5, 25): np.int64(1), (25, 50): np.int64(1), (50, 75): np.int64(1), (75, 90): np.int64(1), (90, 97): np.int64(0), (97, 100): np.int64(0)}\n",
      "{(0, 5): np.int64(199), (5, 25): np.int64(810), (25, 50): np.int64(1025), (50, 75): np.int64(1012), (75, 90): np.int64(616), (90, 97): np.int64(295), (97, 100): np.int64(124)}\n",
      "{(0, 5): np.int64(191), (5, 25): np.int64(787), (25, 50): np.int64(989), (50, 75): np.int64(1079), (75, 90): np.int64(610), (90, 97): np.int64(303), (97, 100): np.int64(122)}\n"
     ]
    }
   ],
   "source": [
    "def compute_percentile_ranges(column):\n",
    "    # Define percentile ranges\n",
    "    ranges = [(0, 5), (5, 25), (25, 50), (50, 75), (75, 90), (90, 97), (97, 100)]\n",
    "\n",
    "    percentiles = {(low, high): (column.quantile(low/100), column.quantile(high/100)) for low, high in ranges}\n",
    "\n",
    "    counts = {}\n",
    "\n",
    "    for r, (low, high) in percentiles.items():\n",
    "        counts[r] = ((column >= low) & (column < high)).sum()\n",
    "    \n",
    "    return counts\n",
    "\n",
    "print(compute_percentile_ranges(female['chestcircumference']))\n",
    "print(compute_percentile_ranges(female['biacromialbreadth']))\n",
    "\n",
    "print(compute_percentile_ranges(male['chestcircumference']))\n",
    "print(compute_percentile_ranges(male['biacromialbreadth']))\n",
    "\n"
   ]
  },
  {
   "cell_type": "code",
   "execution_count": 34,
   "metadata": {},
   "outputs": [
    {
     "name": "stdout",
     "output_type": "stream",
     "text": [
      "{'XS': {'Chest': 839, 'Shoulder': 356}, 'S': {'Chest': 847, 'Shoulder': 360}, 'M': {'Chest': 886, 'Shoulder': 372}, 'L': {'Chest': 965, 'Shoulder': 375}, 'XL': {'Chest': 1025, 'Shoulder': 382}, '2XL': {'Chest': 1060, 'Shoulder': 390}, '3XL': {'Chest': 1080, 'Shoulder': 395}}\n",
      "{'XS': {'Chest': 774, 'Shoulder': 337}, 'S': {'Chest': 922, 'Shoulder': 384}, 'M': {'Chest': 996, 'Shoulder': 403}, 'L': {'Chest': 1056, 'Shoulder': 415}, 'XL': {'Chest': 1117, 'Shoulder': 428}, '2XL': {'Chest': 1172, 'Shoulder': 441}, '3XL': {'Chest': 1233, 'Shoulder': 452}}\n"
     ]
    }
   ],
   "source": [
    "def compute_size_percentile_mesurments(data, chest_column, shoulder_column):\n",
    "    sizes = ['XS', 'S', 'M', 'L', 'XL', '2XL', '3XL']\n",
    "    ranges = [0, 5, 25, 50, 75, 90, 97]\n",
    "\n",
    "    # Compute the values for each percentile for chest and shoulder\n",
    "    chest_percentiles = {p: data[chest_column].quantile(p/100) for p in ranges}\n",
    "    shoulder_percentiles = {p: data[shoulder_column].quantile(p/100) for p in ranges}\n",
    "\n",
    "    # Map the t-shirt sizes to the corresponding chest and shoulder measurments\n",
    "    size_mappings = {}\n",
    "    for i, size in enumerate(sizes):\n",
    "        size_mappings[size] = {\n",
    "            'Chest': int(chest_percentiles[ranges[i]]),\n",
    "            'Shoulder': int(shoulder_percentiles[ranges[i]])\n",
    "        }\n",
    "    \n",
    "    return size_mappings\n",
    "    \n",
    "\n",
    "\n",
    "print(compute_size_percentile_mesurments(female, 'chestcircumference', 'biacromialbreadth'))\n",
    "print(compute_size_percentile_mesurments(male, 'chestcircumference', 'biacromialbreadth'))\n",
    "\n",
    " "
   ]
  },
  {
   "cell_type": "code",
   "execution_count": 35,
   "metadata": {},
   "outputs": [],
   "source": [
    "female_sizes={\n",
    "  'XS': {'Chest': 839, 'Shoulder': 356}, \n",
    "  'S': {'Chest': 847, 'Shoulder': 360}, \n",
    "  'M': {'Chest': 886, 'Shoulder': 372},\n",
    "  'L': {'Chest': 965, 'Shoulder': 375}, \n",
    "  'XL': {'Chest': 1025, 'Shoulder': 382}, \n",
    "  '2XL': {'Chest': 1060, 'Shoulder': 390},\n",
    "  '3XL': {'Chest': 1080, 'Shoulder': 395}\n",
    "  }"
   ]
  },
  {
   "cell_type": "code",
   "execution_count": 36,
   "metadata": {},
   "outputs": [
    {
     "name": "stdout",
     "output_type": "stream",
     "text": [
      "Male Results: {'matches': 4, 'conflicts': 0}\n",
      "Female Results: {'matches': 4, 'conflicts': 0}\n"
     ]
    }
   ],
   "source": [
    "def get_size_category(value, size_chart):\n",
    "    \"\"\"\n",
    "    Determines the size category for a given measurement based on a size chart.\n",
    "    \n",
    "    Args:\n",
    "        value (float): The measurement value (e.g., chest circumference or shoulder breadth).\n",
    "        size_chart (dict): A dictionary with size categories as keys and value ranges as values.\n",
    "\n",
    "    Returns:\n",
    "        str: The size category (e.g., 'S', 'M', 'L').\n",
    "    \"\"\"\n",
    "    for size, (lower, upper) in size_chart.items():\n",
    "        if lower <= value <= upper:\n",
    "            return size\n",
    "    return None\n",
    "\n",
    "def count_matches_and_conflicts(data, size_chart):\n",
    "    \"\"\"\n",
    "    Counts individuals with matching and conflicting size categories based on the dataset and size chart.\n",
    "\n",
    "    Args:\n",
    "        data (list of dict): List of individuals with measurements (e.g., [{'chest': 90, 'shoulder': 45}, ...]).\n",
    "        size_chart (dict): Dictionary specifying size limits for chest and shoulder.\n",
    "\n",
    "    Returns:\n",
    "        dict: Counts of matches and conflicts.\n",
    "    \"\"\"\n",
    "    matches = 0\n",
    "    conflicts = 0\n",
    "\n",
    "    for person in data:\n",
    "        chest_size = get_size_category(person['chest'], size_chart['chest'])\n",
    "        shoulder_size = get_size_category(person['shoulder'], size_chart['shoulder'])\n",
    "\n",
    "        if chest_size and shoulder_size:\n",
    "            if chest_size == shoulder_size:\n",
    "                matches += 1\n",
    "            else:\n",
    "                conflicts += 1\n",
    "\n",
    "    return {'matches': matches, 'conflicts': conflicts}\n",
    "\n",
    "# Example size charts for males and females\n",
    "male_size_chart = {\n",
    "    'chest': {\n",
    "        'S': (85, 95),\n",
    "        'M': (96, 105),\n",
    "        'L': (106, 115),\n",
    "        'XL': (116, 125)\n",
    "    },\n",
    "    'shoulder': {\n",
    "        'S': (40, 45),\n",
    "        'M': (46, 50),\n",
    "        'L': (51, 55),\n",
    "        'XL': (56, 60)\n",
    "    }\n",
    "}\n",
    "\n",
    "female_size_chart = {\n",
    "    'chest': {\n",
    "        'S': (80, 90),\n",
    "        'M': (91, 100),\n",
    "        'L': (101, 110),\n",
    "        'XL': (111, 120)\n",
    "    },\n",
    "    'shoulder': {\n",
    "        'S': (35, 40),\n",
    "        'M': (41, 45),\n",
    "        'L': (46, 50),\n",
    "        'XL': (51, 55)\n",
    "    }\n",
    "}\n",
    "\n",
    "# Example datasets for males and females\n",
    "male_data = [\n",
    "    {'chest': 92, 'shoulder': 44},\n",
    "    {'chest': 100, 'shoulder': 48},\n",
    "    {'chest': 110, 'shoulder': 52},\n",
    "    {'chest': 120, 'shoulder': 58}\n",
    "]\n",
    "\n",
    "female_data = [\n",
    "    {'chest': 85, 'shoulder': 38},\n",
    "    {'chest': 95, 'shoulder': 42},\n",
    "    {'chest': 105, 'shoulder': 47},\n",
    "    {'chest': 115, 'shoulder': 53}\n",
    "]\n",
    "\n",
    "# Testing the function\n",
    "male_results = count_matches_and_conflicts(male_data, male_size_chart)\n",
    "female_results = count_matches_and_conflicts(female_data, female_size_chart)\n",
    "\n",
    "print(\"Male Results:\", male_results)\n",
    "print(\"Female Results:\", female_results)\n"
   ]
  },
  {
   "cell_type": "code",
   "execution_count": 40,
   "metadata": {},
   "outputs": [],
   "source": [
    "def analyze_matches_and_ties(size_chart, measurements):\n",
    "    \"\"\"\n",
    "    Analyze the number of matches and ties based on two measurements.\n",
    "\n",
    "    Args:\n",
    "        size_chart (list of dict): The size chart, where each size has min/max values for two measurements.\n",
    "                                   Example: [{'size': 'S', 'min_height': 150, 'max_height': 160,\n",
    "                                              'min_chest': 80, 'max_chest': 90}, ...]\n",
    "        measurements (list of dict): List of individual measurements.\n",
    "                                      Example: [{'person': 'A', 'height': 155, 'chest': 85}, ...]\n",
    "\n",
    "    Returns:\n",
    "        dict: A dictionary with counts of matches and ties, plus individual results.\n",
    "    \"\"\"\n",
    "    matches = 0\n",
    "    ties = 0\n",
    "    results = []\n",
    "\n",
    "    for person in measurements:\n",
    "        person_matches = []\n",
    "        for size in size_chart:\n",
    "            # Check if the person's measurements fit the size\n",
    "            if (size['min_height'] <= person['height'] <= size['max_height'] and\n",
    "                size['min_chest'] <= person['chest'] <= size['max_chest']):\n",
    "                person_matches.append(size['size'])\n",
    "        \n",
    "        if len(person_matches) == 1:\n",
    "            matches += 1\n",
    "            results.append({'person': person['person'], 'size': person_matches[0], 'type': 'match'})\n",
    "        elif len(person_matches) > 1:\n",
    "            ties += 1\n",
    "            # Handle ties: choose the larger size if sizes are adjacent\n",
    "            chosen_size = max(person_matches)  # Assuming sizes are sortable\n",
    "            results.append({'person': person['person'], 'size': chosen_size, 'type': 'tie'})\n",
    "    \n",
    "    return {\n",
    "        'matches': matches,\n",
    "        'ties': ties,\n",
    "        'results': results\n",
    "    }\n",
    " \n"
   ]
  },
  {
   "cell_type": "code",
   "execution_count": 42,
   "metadata": {},
   "outputs": [],
   "source": [
    "size_chart = [\n",
    "    {'size': 'S', 'min_height': 150, 'max_height': 160, 'min_chest': 80, 'max_chest': 90},\n",
    "    {'size': 'M', 'min_height': 161, 'max_height': 170, 'min_chest': 91, 'max_chest': 100},\n",
    "    {'size': 'L', 'min_height': 171, 'max_height': 180, 'min_chest': 101, 'max_chest': 110},\n",
    "]\n",
    "\n",
    "measurements = [\n",
    "    {'person': 'A', 'height': 155, 'chest': 85},\n",
    "    {'person': 'B', 'height': 165, 'chest': 95},\n",
    "    {'person': 'C', 'height': 175, 'chest': 105},\n",
    "    {'person': 'D', 'height': 160, 'chest': 85},\n",
    "]\n"
   ]
  },
  {
   "cell_type": "code",
   "execution_count": null,
   "metadata": {},
   "outputs": [],
   "source": []
  }
 ],
 "metadata": {
  "kernelspec": {
   "display_name": "base",
   "language": "python",
   "name": "python3"
  },
  "language_info": {
   "codemirror_mode": {
    "name": "ipython",
    "version": 3
   },
   "file_extension": ".py",
   "mimetype": "text/x-python",
   "name": "python",
   "nbconvert_exporter": "python",
   "pygments_lexer": "ipython3",
   "version": "3.12.2"
  }
 },
 "nbformat": 4,
 "nbformat_minor": 2
}
